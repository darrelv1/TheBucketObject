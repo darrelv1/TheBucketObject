{
 "cells": [
  {
   "cell_type": "code",
   "execution_count": null,
   "outputs": [],
   "source": [],
   "metadata": {
    "collapsed": false
   },
   "id": "be2d6cfc04e4099e"
  },
  {
   "cell_type": "code",
   "execution_count": null,
   "outputs": [],
   "source": [],
   "metadata": {
    "collapsed": false,
    "is_executing": true
   },
   "id": "92f1e64e9fe98e27"
  },
  {
   "cell_type": "code",
   "execution_count": null,
   "outputs": [],
   "source": [],
   "metadata": {
    "collapsed": false,
    "is_executing": true
   },
   "id": "192d525eac84573f"
  },
  {
   "cell_type": "code",
   "execution_count": null,
   "outputs": [],
   "source": [],
   "metadata": {
    "collapsed": false
   },
   "id": "1f31d1c2a787ce36"
  },
  {
   "cell_type": "code",
   "execution_count": 1,
   "outputs": [],
   "source": [
    "import os\n",
    "import pandas as pd\n",
    "import numpy as np"
   ],
   "metadata": {
    "collapsed": false,
    "ExecuteTime": {
     "end_time": "2023-09-03T04:47:18.841800200Z",
     "start_time": "2023-09-03T04:47:18.821084Z"
    }
   },
   "id": "c1adb4acec1bd8d5"
  },
  {
   "cell_type": "code",
   "execution_count": null,
   "outputs": [],
   "source": [],
   "metadata": {
    "collapsed": false
   },
   "id": "bbbcdf6e45f4814a"
  },
  {
   "cell_type": "code",
   "execution_count": 5,
   "outputs": [],
   "source": [
    "import pandas as pd"
   ],
   "metadata": {
    "collapsed": false,
    "ExecuteTime": {
     "end_time": "2023-09-03T03:42:25.034727400Z",
     "start_time": "2023-09-03T03:42:24.556183Z"
    }
   },
   "id": "d4d1ef25994a18e7"
  },
  {
   "cell_type": "code",
   "execution_count": 6,
   "outputs": [
    {
     "data": {
      "text/plain": "['ArrowDtype',\n 'BooleanDtype',\n 'Categorical',\n 'CategoricalDtype',\n 'CategoricalIndex',\n 'DataFrame',\n 'DateOffset',\n 'DatetimeIndex',\n 'DatetimeTZDtype',\n 'ExcelFile',\n 'ExcelWriter',\n 'Flags',\n 'Float32Dtype',\n 'Float64Dtype',\n 'Grouper',\n 'HDFStore',\n 'Index',\n 'IndexSlice',\n 'Int16Dtype',\n 'Int32Dtype',\n 'Int64Dtype',\n 'Int8Dtype',\n 'Interval',\n 'IntervalDtype',\n 'IntervalIndex',\n 'MultiIndex',\n 'NA',\n 'NaT',\n 'NamedAgg',\n 'Period',\n 'PeriodDtype',\n 'PeriodIndex',\n 'RangeIndex',\n 'Series',\n 'SparseDtype',\n 'StringDtype',\n 'Timedelta',\n 'TimedeltaIndex',\n 'Timestamp',\n 'UInt16Dtype',\n 'UInt32Dtype',\n 'UInt64Dtype',\n 'UInt8Dtype',\n '__all__',\n '__builtins__',\n '__cached__',\n '__doc__',\n '__docformat__',\n '__file__',\n '__git_version__',\n '__loader__',\n '__name__',\n '__package__',\n '__path__',\n '__spec__',\n '__version__',\n '_built_with_meson',\n '_config',\n '_is_numpy_dev',\n '_libs',\n '_pandas_datetime_CAPI',\n '_pandas_parser_CAPI',\n '_testing',\n '_typing',\n '_version_meson',\n 'annotations',\n 'api',\n 'array',\n 'arrays',\n 'bdate_range',\n 'compat',\n 'concat',\n 'core',\n 'crosstab',\n 'cut',\n 'date_range',\n 'describe_option',\n 'errors',\n 'eval',\n 'factorize',\n 'from_dummies',\n 'get_dummies',\n 'get_option',\n 'infer_freq',\n 'interval_range',\n 'io',\n 'isna',\n 'isnull',\n 'json_normalize',\n 'lreshape',\n 'melt',\n 'merge',\n 'merge_asof',\n 'merge_ordered',\n 'notna',\n 'notnull',\n 'offsets',\n 'option_context',\n 'options',\n 'pandas',\n 'period_range',\n 'pivot',\n 'pivot_table',\n 'plotting',\n 'qcut',\n 'read_clipboard',\n 'read_csv',\n 'read_excel',\n 'read_feather',\n 'read_fwf',\n 'read_gbq',\n 'read_hdf',\n 'read_html',\n 'read_json',\n 'read_orc',\n 'read_parquet',\n 'read_pickle',\n 'read_sas',\n 'read_spss',\n 'read_sql',\n 'read_sql_query',\n 'read_sql_table',\n 'read_stata',\n 'read_table',\n 'read_xml',\n 'reset_option',\n 'set_eng_float_format',\n 'set_option',\n 'show_versions',\n 'test',\n 'testing',\n 'timedelta_range',\n 'to_datetime',\n 'to_numeric',\n 'to_pickle',\n 'to_timedelta',\n 'tseries',\n 'unique',\n 'util',\n 'value_counts',\n 'wide_to_long']"
     },
     "execution_count": 6,
     "metadata": {},
     "output_type": "execute_result"
    }
   ],
   "source": [
    "dir(pd)"
   ],
   "metadata": {
    "collapsed": false,
    "ExecuteTime": {
     "end_time": "2023-09-03T03:42:41.773553Z",
     "start_time": "2023-09-03T03:42:41.731357900Z"
    }
   },
   "id": "f1e9ad6cfd20f08f"
  },
  {
   "cell_type": "code",
   "execution_count": null,
   "outputs": [],
   "source": [],
   "metadata": {
    "collapsed": false
   },
   "id": "7401b1579cd73a11"
  }
 ],
 "metadata": {
  "kernelspec": {
   "display_name": "Python 3",
   "language": "python",
   "name": "python3"
  },
  "language_info": {
   "codemirror_mode": {
    "name": "ipython",
    "version": 2
   },
   "file_extension": ".py",
   "mimetype": "text/x-python",
   "name": "python",
   "nbconvert_exporter": "python",
   "pygments_lexer": "ipython2",
   "version": "2.7.6"
  }
 },
 "nbformat": 4,
 "nbformat_minor": 5
}
